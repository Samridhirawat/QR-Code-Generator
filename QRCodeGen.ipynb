{
  "nbformat": 4,
  "nbformat_minor": 0,
  "metadata": {
    "colab": {
      "provenance": [],
      "include_colab_link": true
    },
    "kernelspec": {
      "name": "python3",
      "display_name": "Python 3"
    },
    "language_info": {
      "name": "python"
    }
  },
  "cells": [
    {
      "cell_type": "markdown",
      "metadata": {
        "id": "view-in-github",
        "colab_type": "text"
      },
      "source": [
        "<a href=\"https://colab.research.google.com/github/Samridhirawat/QR-Code-Generator/blob/main/QRCodeGen.ipynb\" target=\"_parent\"><img src=\"https://colab.research.google.com/assets/colab-badge.svg\" alt=\"Open In Colab\"/></a>"
      ]
    },
    {
      "cell_type": "code",
      "execution_count": 2,
      "metadata": {
        "id": "GV3tYINlbjYx",
        "outputId": "4aefddb7-3211-4f41-e24e-25204c0966ee",
        "colab": {
          "base_uri": "https://localhost:8080/"
        }
      },
      "outputs": [
        {
          "output_type": "stream",
          "name": "stdout",
          "text": [
            "Requirement already satisfied: pyqrcode in /usr/local/lib/python3.10/dist-packages (1.2.1)\n",
            "Requirement already satisfied: pypng in /usr/local/lib/python3.10/dist-packages (0.20220715.0)\n"
          ]
        }
      ],
      "source": [
        "!pip install pyqrcode pypng"
      ]
    },
    {
      "cell_type": "code",
      "source": [
        "'''\n",
        "Python Program to Generate QR Code\n",
        "'''\n",
        "\n",
        "# Import the necessary module!\n",
        "import pyqrcode\n",
        "\n",
        "# Define the data:\n",
        "# We need some text that we want to convert as our QR Code.\n",
        "data = \"https://github.com/Samridhirawat/\"\n",
        "\n",
        "# Create qrcode:\n",
        "qr = pyqrcode.create(data)\n",
        "\n",
        "# Now let's store it in .png format with proper scaling.\n",
        "qr.png(\"QR.png\", scale= 5)"
      ],
      "metadata": {
        "id": "M9SkWl8Mblkl"
      },
      "execution_count": 3,
      "outputs": []
    }
  ]
}